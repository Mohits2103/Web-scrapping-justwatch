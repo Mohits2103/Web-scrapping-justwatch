{
  "cells": [
    {
      "cell_type": "code",
      "execution_count": 34,
      "metadata": {
        "id": "8pyueGZrhfjo"
      },
      "outputs": [],
      "source": [
        "#IMPORTING REQUIRED LIBRARIES\n",
        "\n",
        "import lxml\n",
        "import re\n",
        "import numpy as np\n",
        "import pandas as pd\n",
        "import time\n",
        "import io\n",
        "from google.colab import files\n",
        "from datetime import date\n",
        "\n",
        "from bs4 import BeautifulSoup\n",
        "from requests import get"
      ]
    },
    {
      "cell_type": "markdown",
      "source": [
        "# **# Part 1 of the Task**"
      ],
      "metadata": {
        "id": "jbTsglgH8dnQ"
      }
    },
    {
      "cell_type": "markdown",
      "source": [
        "URLS for scrapping - use any two at a time"
      ],
      "metadata": {
        "id": "svjb2QPD6VPH"
      }
    },
    {
      "cell_type": "code",
      "execution_count": 19,
      "metadata": {
        "id": "9Tlq1fixhfjt"
      },
      "outputs": [],
      "source": [
        "url1 = \"https://www.justwatch.com/in/tv-shows\"\n",
        "url2 = \"https://www.justwatch.com/in/movies\"\n",
        "#url1 = \"https://www.justwatch.com/in/provider/netflix?sort_by=trending_7_day\"\n",
        "#url1 = \"https://www.justwatch.com/in/provider/amazon-prime-video?sort_by=trending_7_day\"\n",
        "#url1 = \"https://www.justwatch.com/in/provider/hotstar?sort_by=trending_7_day\""
      ]
    },
    {
      "cell_type": "markdown",
      "source": [
        "Code to fetch Movie/ TV Show details"
      ],
      "metadata": {
        "id": "WVvMjFAs6ayq"
      }
    },
    {
      "cell_type": "code",
      "source": [
        "class IMDB2(object):\n",
        "\t\"\"\"docstring for IMDB\"\"\"\n",
        "\n",
        "\t#Loading the page in beautiful soup library\n",
        "\tdef __init__(self, url):\n",
        "\t\tsuper(IMDB2, self).__init__()\n",
        "\t\tpage = get(url)\n",
        "\t\tself.soup = BeautifulSoup(page.content, 'lxml')\n",
        "\n",
        "\t#Loading the Page's Division/ Block from where datas would be scrapped\n",
        "\tdef bodyContent(self):\n",
        "\t\tcontent = self.soup.find(id=\"app\")\n",
        "\t\treturn content.find_all(\"div\", class_=\"jw-info-box__container\")\n",
        "\n",
        "\t#Main code to fetch Movie Data\n",
        "\tdef movieData(self, stri):\n",
        "\n",
        "\t\t#Define Variables\n",
        "\t\tmovieFrame = self.bodyContent()\n",
        "\t\tmovieTitle = []\n",
        "\t\tmovieRunTime = []\n",
        "\t\tmovieGenre = []\n",
        "\t\tmovieRating = []\n",
        "\t\tmovieDescription = []\n",
        "\t\tmovieOTT = []\n",
        "\t\tlist1 = []\n",
        "\n",
        "\t\t#Loop to fetch movie/ tv show details\n",
        "\t\tfor movie in movieFrame:\n",
        "\t\t\tmovieFirstLine = movie.find(\"div\", class_=\"title-block__container\").text\n",
        "\t\t\tmovieTitle=(movieFirstLine)                                                 #Fetch Movie/ TV Show Title - Fetched format is \"Name (Year) OriginalTitle\"\n",
        "\t\t\tl=0\n",
        "\t\t\tfor moviettt in movie.find_all(\"p\", class_=\"mt-0\"):\n",
        "\t\t\t\tmovieOTT = moviettt.text\n",
        "\n",
        "\t\t\t#print(movieOTT)\n",
        "\n",
        "\t\t\tfor mytag in movie.find_all(\"div\", class_=\"detail-infos\"):\n",
        "\t\t\t\tl = l+1\n",
        "\t\t\t\tif l == 1:\n",
        "\t\t\t\t\tmovieRating=(mytag.text)                                                # Fetch rating - Fetched format is \"JustWatch rating (in %) and IMDB rating (in x.y format) based out of (z) votes\"\n",
        "\t\t\t\tif l == 2:\n",
        "\t\t\t\t\tmovieGenre=(mytag.text)                                                # Fetch Genre - Fetched format is \"Genres: Horror, Drama, Comedy.....etc\"\n",
        "\t\t\t\tif l == 3:\n",
        "\t\t\t\t\tmovieRunTime=(mytag.text)                                               # Fetch Run Time - Fetched format is \"x h and yz min\"\n",
        "\t\t\t\tif l == 4:\n",
        "\t\t\t\t\tmovieDescription=(mytag.text)\n",
        "\t\t\tmovieData1 = {\"movieTitle\" : [movieTitle] ,\"movieRunTime\" : [movieRunTime], \"movieGenre\" : [movieGenre], \"movieRating\" : [movieRating], \"movieDescription\": [movieDescription], \"movieOTT\": [movieOTT], \"movieURL\": stri}\n",
        "\t\t\tlist1.append(movieData1)\n",
        "\t\t\tmovieData = [movieTitle,movieRunTime, movieGenre, movieRating, movieDescription, movieOTT, stri]\n",
        "\t\treturn movieData1"
      ],
      "metadata": {
        "id": "ui9sKbBnsK2Z"
      },
      "execution_count": 17,
      "outputs": []
    },
    {
      "cell_type": "markdown",
      "source": [
        "Code to fetch urls of each Movie or Tv Show"
      ],
      "metadata": {
        "id": "FXLJBLmb7gtj"
      }
    },
    {
      "cell_type": "code",
      "execution_count": 16,
      "metadata": {
        "id": "d2tEH-mihfju"
      },
      "outputs": [],
      "source": [
        "class IMDB(object):\n",
        "\t\"\"\"docstring for IMDB\"\"\"\n",
        "\n",
        "\t#Loading the page in beautiful soup library\n",
        "\tdef __init__(self, url):\n",
        "\t\tsuper(IMDB, self).__init__()\n",
        "\t\tpage = get(url)\n",
        "\t\tself.soup = BeautifulSoup(page.content, 'lxml')\n",
        "\n",
        "\t#Loading the Page's Division/ Block from where datas would be scrapped\n",
        "\tdef bodyContent(self):\n",
        "\t\tcontent = self.soup.find(id=\"app\")\n",
        "\t\t#print(content.find_all(\"div\", class_=\"title-list-grid__item\"))\n",
        "\t\treturn content.find_all(\"div\", class_=\"title-list-grid__item\")\n",
        "\n",
        "\t#Main code to fetch movie/ tv show urls\n",
        "\tdef movieData(self, inte):\n",
        "\t\tmovieFrame = self.bodyContent()\n",
        "\t\tmovieURL = []\n",
        "\t\tfinalData = []\n",
        "\t\tfileno = inte\n",
        "\n",
        "\t\tfor movie in movieFrame:\n",
        "\t\t\tmovieURLSNAP = movie.find(\"a\", class_=\"title-list-grid__item--link\")\n",
        "\t\t\t#print(movieFirstLine.get(\"href\"))\n",
        "\t\t\tmovieURL = \"https://www.justwatch.com\" + movieURLSNAP.get(\"href\")\n",
        "\t\t\t#print(movieTitle)\n",
        "\t\t\tsite2 = IMDB2(movieURL)\n",
        "\t\t\tfinalData.append(site2.movieData(movieURL))\n",
        "\n",
        "\n",
        "\t\tdf = pd.DataFrame(finalData)   # Converting the fetched datas into DatFrame\n",
        "\t\tdf.to_csv('Final.csv',index=False)\n",
        "\t\td1 = pd.read_csv('Final.csv')\n",
        "\n",
        "\t\t#Variables\n",
        "\t\tvar0 = []\n",
        "\t\tvar1 = []\n",
        "\t\tvar2 = []\n",
        "\t\tvar3 = []\n",
        "\t\tvar4 = []\n",
        "\t\tvar5 = []\n",
        "\t\tvar6 = []\n",
        "\t\tvar7 = []\n",
        "\t\tvar8 = []\n",
        "\t\tvar9 = []\n",
        "\t\tvar10 = []\n",
        "\t\tvar11 = []\n",
        "\n",
        "\n",
        "\t\t#Format the fetched data as per requirements\n",
        "\n",
        "\t\tvar0 = d1['movieTitle'].str.split(\" \", n=1, expand=True)\n",
        "\t\tvar1 = var0[1].str.split(\" \\(\", n=1, expand = True)\n",
        "\t\tvar2 = var1[1].str.split(\"\\)\", n=1, expand = True)\n",
        "\t\tvar3 = d1['movieRating'].str.split(\"% \", n=1 , expand=True)\n",
        "\t\tvar4 = var3[1].str.split(\" \\(\", n=1, expand=True)\n",
        "\t\tvar5 = var4[0].str.split(\"\\'\", n=1, expand=True)\n",
        "\t\tvar6 = d1['movieRunTime'].str.split(\"Runtime\", n=1 , expand=True)\n",
        "\t\tvar7 = var6[1].str.split(\"\\']\", n=1 , expand=True)\n",
        "\t\tvar8 = d1['movieGenre'].str.split(\"Genres\", n=1 , expand=True)\n",
        "\t\tvar9 = var8[1].str.split(\"\\']\", n=1 , expand=True)\n",
        "\t\tvar10 = d1['movieOTT'].str.split(\"streaming on \", n=1, expand = True)\n",
        "\t\tvar11 = var10[1].str.split(\".\", n=1, expand=True)\n",
        "\n",
        "\t\td1['year'] = var2[0]\n",
        "\t\td1['Title'] = var1[0]\n",
        "\t\td1['Rating'] = var5[0]\n",
        "\t\td1['movieRunTime'] = var7[0]\n",
        "\t\td1['movieGenre'] = var9[0]\n",
        "\t\td1['movieOTT'] = var11[0]\n",
        "\t\td1 = d1.drop([\"movieRating\"], axis =1)\n",
        "\t\td1 = d1.drop([\"movieDescription\"], axis =1)\n",
        "\t\td1 = d1.drop([\"movieTitle\"], axis =1)\n",
        "\n",
        "\t\t#Download the CSV file\n",
        "\t\tfilename = \"List\" + str(fileno) + \".csv\"\n",
        "\t\td1.to_csv(filename,index=False)\n",
        "\t\tfiles.download(filename)\n",
        "\t\t#print(d1)\n",
        "\n",
        "\t\treturn finalData"
      ]
    },
    {
      "cell_type": "markdown",
      "source": [
        "Main"
      ],
      "metadata": {
        "id": "c8RbdoAg-1tI"
      }
    },
    {
      "cell_type": "code",
      "execution_count": 20,
      "metadata": {
        "collapsed": true,
        "colab": {
          "base_uri": "https://localhost:8080/",
          "height": 17
        },
        "id": "0W73vJnPhfjz",
        "outputId": "b0131273-ea73-4478-a282-acd07edb42f0"
      },
      "outputs": [
        {
          "output_type": "display_data",
          "data": {
            "text/plain": [
              "<IPython.core.display.Javascript object>"
            ],
            "application/javascript": [
              "\n",
              "    async function download(id, filename, size) {\n",
              "      if (!google.colab.kernel.accessAllowed) {\n",
              "        return;\n",
              "      }\n",
              "      const div = document.createElement('div');\n",
              "      const label = document.createElement('label');\n",
              "      label.textContent = `Downloading \"${filename}\": `;\n",
              "      div.appendChild(label);\n",
              "      const progress = document.createElement('progress');\n",
              "      progress.max = size;\n",
              "      div.appendChild(progress);\n",
              "      document.body.appendChild(div);\n",
              "\n",
              "      const buffers = [];\n",
              "      let downloaded = 0;\n",
              "\n",
              "      const channel = await google.colab.kernel.comms.open(id);\n",
              "      // Send a message to notify the kernel that we're ready.\n",
              "      channel.send({})\n",
              "\n",
              "      for await (const message of channel.messages) {\n",
              "        // Send a message to notify the kernel that we're ready.\n",
              "        channel.send({})\n",
              "        if (message.buffers) {\n",
              "          for (const buffer of message.buffers) {\n",
              "            buffers.push(buffer);\n",
              "            downloaded += buffer.byteLength;\n",
              "            progress.value = downloaded;\n",
              "          }\n",
              "        }\n",
              "      }\n",
              "      const blob = new Blob(buffers, {type: 'application/binary'});\n",
              "      const a = document.createElement('a');\n",
              "      a.href = window.URL.createObjectURL(blob);\n",
              "      a.download = filename;\n",
              "      div.appendChild(a);\n",
              "      a.click();\n",
              "      div.remove();\n",
              "    }\n",
              "  "
            ]
          },
          "metadata": {}
        },
        {
          "output_type": "display_data",
          "data": {
            "text/plain": [
              "<IPython.core.display.Javascript object>"
            ],
            "application/javascript": [
              "download(\"download_f6a3a25f-ad39-4d18-bb62-423da79cf306\", \"List1.csv\", 5470)"
            ]
          },
          "metadata": {}
        },
        {
          "output_type": "display_data",
          "data": {
            "text/plain": [
              "<IPython.core.display.Javascript object>"
            ],
            "application/javascript": [
              "\n",
              "    async function download(id, filename, size) {\n",
              "      if (!google.colab.kernel.accessAllowed) {\n",
              "        return;\n",
              "      }\n",
              "      const div = document.createElement('div');\n",
              "      const label = document.createElement('label');\n",
              "      label.textContent = `Downloading \"${filename}\": `;\n",
              "      div.appendChild(label);\n",
              "      const progress = document.createElement('progress');\n",
              "      progress.max = size;\n",
              "      div.appendChild(progress);\n",
              "      document.body.appendChild(div);\n",
              "\n",
              "      const buffers = [];\n",
              "      let downloaded = 0;\n",
              "\n",
              "      const channel = await google.colab.kernel.comms.open(id);\n",
              "      // Send a message to notify the kernel that we're ready.\n",
              "      channel.send({})\n",
              "\n",
              "      for await (const message of channel.messages) {\n",
              "        // Send a message to notify the kernel that we're ready.\n",
              "        channel.send({})\n",
              "        if (message.buffers) {\n",
              "          for (const buffer of message.buffers) {\n",
              "            buffers.push(buffer);\n",
              "            downloaded += buffer.byteLength;\n",
              "            progress.value = downloaded;\n",
              "          }\n",
              "        }\n",
              "      }\n",
              "      const blob = new Blob(buffers, {type: 'application/binary'});\n",
              "      const a = document.createElement('a');\n",
              "      a.href = window.URL.createObjectURL(blob);\n",
              "      a.download = filename;\n",
              "      div.appendChild(a);\n",
              "      a.click();\n",
              "      div.remove();\n",
              "    }\n",
              "  "
            ]
          },
          "metadata": {}
        },
        {
          "output_type": "display_data",
          "data": {
            "text/plain": [
              "<IPython.core.display.Javascript object>"
            ],
            "application/javascript": [
              "download(\"download_a73fda0f-12d3-49bb-9e65-953053e52e16\", \"List2.csv\", 5816)"
            ]
          },
          "metadata": {}
        }
      ],
      "source": [
        "if __name__ == '__main__':\n",
        "\tsite1 = IMDB(url1)\t\t\t\t\t\t#Downloaded file is Final1.csv and this conatains details of top 40 TV Shows\n",
        "\tdata = site1.movieData(1)\n",
        "\n",
        "\tsite2 = IMDB(url2)\t\t\t\t\t\t#Downloaded file is Final.csv  and this conatains details of top 40 Movies\n",
        "\tdata1 = site2.movieData(2)\n"
      ]
    },
    {
      "cell_type": "markdown",
      "source": [
        "# **This concludes part 1 of the task and now we head to part 2**"
      ],
      "metadata": {
        "id": "8pnIuQzd7KOY"
      }
    },
    {
      "cell_type": "code",
      "execution_count": 23,
      "metadata": {
        "id": "vbEPg7Dbhfj2"
      },
      "outputs": [],
      "source": [
        "d11 = pd.read_csv('List1.csv')  #Reading webscrapped data into dataframe\n",
        "d12 = pd.read_csv('List2.csv')  #Reading webscrapped data into dataframe"
      ]
    },
    {
      "cell_type": "markdown",
      "source": [
        "First filter out the data based on Movies/ TV shows which were released within last two years"
      ],
      "metadata": {
        "id": "bFx-1tiV7Prp"
      }
    },
    {
      "cell_type": "code",
      "source": [
        "d21 = d11[d11['year'].astype(int) >= date.today().year-2]  #Current year - 2\n",
        "d22 = d12[d12['year'].astype(int) >= date.today().year-2]  #Current year - 2"
      ],
      "metadata": {
        "id": "Inrsh_Y857hu"
      },
      "execution_count": 29,
      "outputs": []
    },
    {
      "cell_type": "markdown",
      "source": [
        "Next Filter based on Movies/ TV Shows with rating above 7"
      ],
      "metadata": {
        "id": "WfkKutfr77gA"
      }
    },
    {
      "cell_type": "code",
      "source": [
        "d31 = d21[d21['Rating'].astype(float) > 7]     # Converting rating typr to float and filter tv shows with ratings above 7\n",
        "d32 = d22[d22['Rating'].astype(float) > 7]     # Converting rating typr to float and filter movies with ratings above 7"
      ],
      "metadata": {
        "id": "DcBWRx2H6bZc"
      },
      "execution_count": 30,
      "outputs": []
    },
    {
      "cell_type": "markdown",
      "source": [
        "Calculate the average rating of the filtered data"
      ],
      "metadata": {
        "id": "q5BcTB0Y7-1g"
      }
    },
    {
      "cell_type": "code",
      "source": [
        "avg_rating1 = d31['Rating'].astype(float).mean()  #Find avaerage/ mean rating of TV Shows\n",
        "avg_rating2 = d32['Rating'].astype(float).mean()  #Find avaerage/ mean rating of Movies"
      ],
      "metadata": {
        "id": "uM7gYfay6gXH"
      },
      "execution_count": 32,
      "outputs": []
    },
    {
      "cell_type": "markdown",
      "source": [
        "Top 5 Genres"
      ],
      "metadata": {
        "id": "VIZTIKao8X-2"
      }
    },
    {
      "cell_type": "code",
      "source": [
        "modeGenre1 = d31['movieGenre'].value_counts().nlargest(5)  #Find top 5 genres of TV Shows\n",
        "print(modeGenre1)\n",
        "modeGenre2 = d32['movieGenre'].value_counts().nlargest(5)  #Find top 5 genres of Movies\n",
        "print(modeGenre2)\n"
      ],
      "metadata": {
        "colab": {
          "base_uri": "https://localhost:8080/"
        },
        "id": "kEkN-T0m6oFR",
        "outputId": "49ca3ab0-c5ac-45ac-f6e1-f545fe3e37bf"
      },
      "execution_count": 27,
      "outputs": [
        {
          "output_type": "stream",
          "name": "stdout",
          "text": [
            "Drama, Mystery & Thriller, Crime                        2\n",
            "Drama, Romance                                          2\n",
            "Drama, Crime, Mystery & Thriller, Action & Adventure    1\n",
            "Drama, Crime, Mystery & Thriller                        1\n",
            "Drama, Comedy                                           1\n",
            "Name: movieGenre, dtype: int64\n",
            "Mystery & Thriller, Action & Adventure                             3\n",
            "Drama, History                                                     2\n",
            "Comedy, Science-Fiction, Mystery & Thriller, Action & Adventure    1\n",
            "Drama, Comedy, History                                             1\n",
            "Mystery & Thriller, Action & Adventure, Crime, Horror              1\n",
            "Name: movieGenre, dtype: int64\n"
          ]
        }
      ]
    },
    {
      "cell_type": "markdown",
      "source": [
        "Top 3 Streaming service platform"
      ],
      "metadata": {
        "id": "1C4sZcP-9Fzu"
      }
    },
    {
      "cell_type": "code",
      "source": [
        "streamPlatform1 = d31['movieOTT'].value_counts().nlargest(3)  #Find top 3 Streaming platforms for TV Shows\n",
        "print(streamPlatform1)\n",
        "streamPlatform2 = d32['movieOTT'].value_counts().nlargest(3)  #Find top 3 Streaming platforms for Movies\n",
        "print(streamPlatform2)\n",
        "\n",
        "### To find top most streaming service just replace nlargest(3) with nlargest(1)"
      ],
      "metadata": {
        "colab": {
          "base_uri": "https://localhost:8080/"
        },
        "id": "wFaOy1NN9JG6",
        "outputId": "967c070a-d9f5-4862-ad9e-c907c7452136"
      },
      "execution_count": 38,
      "outputs": [
        {
          "output_type": "stream",
          "name": "stdout",
          "text": [
            "Amazon Prime Video    3\n",
            "Netflix               2\n",
            "Apple TV Plus         2\n",
            "Name: movieOTT, dtype: int64\n",
            "Amazon Prime Video    3\n",
            "Hotstar               2\n",
            "Lionsgate Play        1\n",
            "Name: movieOTT, dtype: int64\n"
          ]
        }
      ]
    },
    {
      "cell_type": "code",
      "source": [
        "d31.to_csv(\"Final_List1.csv\",index=False)\n",
        "files.download(\"Final_List1.csv\")\n",
        "d32.to_csv(\"Final_List2.csv\",index=False)\n",
        "files.download(\"Final_List2.csv\")"
      ],
      "metadata": {
        "colab": {
          "base_uri": "https://localhost:8080/",
          "height": 17
        },
        "id": "rSHriLDQ6tIc",
        "outputId": "13f94b3a-549e-402c-ff55-ec802b6dbe89"
      },
      "execution_count": 28,
      "outputs": [
        {
          "output_type": "display_data",
          "data": {
            "text/plain": [
              "<IPython.core.display.Javascript object>"
            ],
            "application/javascript": [
              "\n",
              "    async function download(id, filename, size) {\n",
              "      if (!google.colab.kernel.accessAllowed) {\n",
              "        return;\n",
              "      }\n",
              "      const div = document.createElement('div');\n",
              "      const label = document.createElement('label');\n",
              "      label.textContent = `Downloading \"${filename}\": `;\n",
              "      div.appendChild(label);\n",
              "      const progress = document.createElement('progress');\n",
              "      progress.max = size;\n",
              "      div.appendChild(progress);\n",
              "      document.body.appendChild(div);\n",
              "\n",
              "      const buffers = [];\n",
              "      let downloaded = 0;\n",
              "\n",
              "      const channel = await google.colab.kernel.comms.open(id);\n",
              "      // Send a message to notify the kernel that we're ready.\n",
              "      channel.send({})\n",
              "\n",
              "      for await (const message of channel.messages) {\n",
              "        // Send a message to notify the kernel that we're ready.\n",
              "        channel.send({})\n",
              "        if (message.buffers) {\n",
              "          for (const buffer of message.buffers) {\n",
              "            buffers.push(buffer);\n",
              "            downloaded += buffer.byteLength;\n",
              "            progress.value = downloaded;\n",
              "          }\n",
              "        }\n",
              "      }\n",
              "      const blob = new Blob(buffers, {type: 'application/binary'});\n",
              "      const a = document.createElement('a');\n",
              "      a.href = window.URL.createObjectURL(blob);\n",
              "      a.download = filename;\n",
              "      div.appendChild(a);\n",
              "      a.click();\n",
              "      div.remove();\n",
              "    }\n",
              "  "
            ]
          },
          "metadata": {}
        },
        {
          "output_type": "display_data",
          "data": {
            "text/plain": [
              "<IPython.core.display.Javascript object>"
            ],
            "application/javascript": [
              "download(\"download_8e1e1eec-f1b9-49f6-bf61-4e9f03dd6187\", \"Final_List1.csv\", 1576)"
            ]
          },
          "metadata": {}
        },
        {
          "output_type": "display_data",
          "data": {
            "text/plain": [
              "<IPython.core.display.Javascript object>"
            ],
            "application/javascript": [
              "\n",
              "    async function download(id, filename, size) {\n",
              "      if (!google.colab.kernel.accessAllowed) {\n",
              "        return;\n",
              "      }\n",
              "      const div = document.createElement('div');\n",
              "      const label = document.createElement('label');\n",
              "      label.textContent = `Downloading \"${filename}\": `;\n",
              "      div.appendChild(label);\n",
              "      const progress = document.createElement('progress');\n",
              "      progress.max = size;\n",
              "      div.appendChild(progress);\n",
              "      document.body.appendChild(div);\n",
              "\n",
              "      const buffers = [];\n",
              "      let downloaded = 0;\n",
              "\n",
              "      const channel = await google.colab.kernel.comms.open(id);\n",
              "      // Send a message to notify the kernel that we're ready.\n",
              "      channel.send({})\n",
              "\n",
              "      for await (const message of channel.messages) {\n",
              "        // Send a message to notify the kernel that we're ready.\n",
              "        channel.send({})\n",
              "        if (message.buffers) {\n",
              "          for (const buffer of message.buffers) {\n",
              "            buffers.push(buffer);\n",
              "            downloaded += buffer.byteLength;\n",
              "            progress.value = downloaded;\n",
              "          }\n",
              "        }\n",
              "      }\n",
              "      const blob = new Blob(buffers, {type: 'application/binary'});\n",
              "      const a = document.createElement('a');\n",
              "      a.href = window.URL.createObjectURL(blob);\n",
              "      a.download = filename;\n",
              "      div.appendChild(a);\n",
              "      a.click();\n",
              "      div.remove();\n",
              "    }\n",
              "  "
            ]
          },
          "metadata": {}
        },
        {
          "output_type": "display_data",
          "data": {
            "text/plain": [
              "<IPython.core.display.Javascript object>"
            ],
            "application/javascript": [
              "download(\"download_b2c8208f-2429-46a9-8a8d-c66d375a0289\", \"Final_List2.csv\", 2389)"
            ]
          },
          "metadata": {}
        }
      ]
    }
  ],
  "metadata": {
    "kernelspec": {
      "display_name": "Python 3",
      "language": "python",
      "name": "python3"
    },
    "language_info": {
      "codemirror_mode": {
        "name": "ipython",
        "version": 3
      },
      "file_extension": ".py",
      "mimetype": "text/x-python",
      "name": "python",
      "nbconvert_exporter": "python",
      "pygments_lexer": "ipython3",
      "version": "3.6.7"
    },
    "colab": {
      "provenance": []
    }
  },
  "nbformat": 4,
  "nbformat_minor": 0
}